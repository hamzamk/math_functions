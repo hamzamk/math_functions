{
 "cells": [
  {
   "cell_type": "code",
   "execution_count": 19,
   "metadata": {},
   "outputs": [
    {
     "name": "stdout",
     "output_type": "stream",
     "text": [
      "*Using Sympy\n"
     ]
    },
    {
     "data": {
      "image/png": "[encoded data removed]",
      "text/latex": [
       "$$2 x - y = -4$$"
      ],
      "text/plain": [
       "2⋅x - y = -4"
      ]
     },
     "metadata": {},
     "output_type": "display_data"
    },
    {
     "data": {
      "image/png": "[encoded data removed]",
      "text/latex": [
       "$$3 x - y = -2$$"
      ],
      "text/plain": [
       "3⋅x - y = -2"
      ]
     },
     "metadata": {},
     "output_type": "display_data"
    },
    {
     "data": {
      "text/latex": [
       "$$\\left[\\begin{matrix}2 & -1 & -4\\\\3 & -1 & -2\\end{matrix}\\right]$$"
      ],
      "text/plain": [
       "⎡2  -1  -4⎤\n",
       "⎢         ⎥\n",
       "⎣3  -1  -2⎦"
      ]
     },
     "metadata": {},
     "output_type": "display_data"
    },
    {
     "data": {
      "image/png": "[encoded data removed]",
      "text/latex": [
       "$$\\left \\{ x : 2, \\quad y : 8\\right \\}$$"
      ],
      "text/plain": [
       "{x: 2, y: 8}"
      ]
     },
     "metadata": {},
     "output_type": "display_data"
    },
    {
     "name": "stdout",
     "output_type": "stream",
     "text": [
      "==================================================================================================== \n",
      "\n",
      "*Using numpy \n",
      "\n",
      "Matrix array([[ 2, -1],\n",
      " \t       [ 3, -1]])\n",
      "\n",
      "The constants are:= [-4 -2]\n",
      "\n",
      "Solution:\n",
      "x=2.0\n",
      "y=8.0\n"
     ]
    }
   ],
   "source": [
    "from sympy.interactive import printing\n",
    "printing.init_printing(use_latex=True)\n",
    "from sympy import Eq, solve_linear_system, Matrix\n",
    "from numpy import linalg\n",
    "import numpy as np\n",
    "import sympy as sp\n",
    "\n",
    "print(\"*Using Sympy\")\n",
    "\n",
    "eq1, eq2 = sp.Function('eq1'), sp.Function('eq2')\n",
    "x, y = sp.symbols('x y')\n",
    "eq1, eq2 = Eq(2*x-y, -4), Eq(3*x-y, -2)\n",
    "display(eq1, eq2)\n",
    "\n",
    "row1, row2 =[2,-1,-4], [3,-1,-2]\n",
    "system = Matrix((row1, row2))\n",
    "display(system, solve_linear_system(system, x,y))\n",
    "\n",
    "print(100*\"=\", \"\\n\")\n",
    "\n",
    "print(\"*Using numpy \\n\")\n",
    "nmat=np.array([[x for x in row1[0:-1]], [x for x in row2[0:-1]]])\n",
    "cons=np.array([row1[-1], row2[-1]])\n",
    "\n",
    "\n",
    "print(\"Matrix {}\\n\\nThe constants are:= {}\".format(np.array_repr(nmat).replace('\\n', '\\n \\t'), cons))\n",
    "\n",
    "solution = linalg.solve(nmat, cons)\n",
    "print(\"\\nSolution:\\nx={}\\ny={}\".format(solution[0], solution[1]))"
   ]
  },
  {
   "cell_type": "code",
   "execution_count": null,
   "metadata": {
    "collapsed": true
   },
   "outputs": [],
   "source": []
  }
 ],
 "metadata": {
  "kernelspec": {
   "display_name": "Python 3",
   "language": "python",
   "name": "python3"
  },
  "language_info": {
   "codemirror_mode": {
    "name": "ipython",
    "version": 3
   },
   "file_extension": ".py",
   "mimetype": "text/x-python",
   "name": "python",
   "nbconvert_exporter": "python",
   "pygments_lexer": "ipython3",
   "version": "3.6.3"
  }
 },
 "nbformat": 4,
 "nbformat_minor": 2
}
